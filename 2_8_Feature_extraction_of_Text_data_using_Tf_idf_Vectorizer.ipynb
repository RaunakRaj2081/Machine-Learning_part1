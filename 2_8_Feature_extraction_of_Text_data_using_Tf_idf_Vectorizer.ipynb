{
  "nbformat": 4,
  "nbformat_minor": 0,
  "metadata": {
    "colab": {
      "provenance": [],
      "authorship_tag": "ABX9TyNkagB3oayxzBoOPh8kczLV",
      "include_colab_link": true
    },
    "kernelspec": {
      "name": "python3",
      "display_name": "Python 3"
    },
    "language_info": {
      "name": "python"
    }
  },
  "cells": [
    {
      "cell_type": "markdown",
      "metadata": {
        "id": "view-in-github",
        "colab_type": "text"
      },
      "source": [
        "<a href=\"https://colab.research.google.com/github/RaunakRaj2081/Machine-Learning_part1/blob/main/2_8_Feature_extraction_of_Text_data_using_Tf_idf_Vectorizer.ipynb\" target=\"_parent\"><img src=\"https://colab.research.google.com/assets/colab-badge.svg\" alt=\"Open In Colab\"/></a>"
      ]
    },
    {
      "cell_type": "markdown",
      "source": [
        "#Feature Extraction"
      ],
      "metadata": {
        "id": "7aDxNbBy6Jk5"
      }
    },
    {
      "cell_type": "markdown",
      "source": [
        "The mapping from textual data to real valued vectors is called feature extraction.\n",
        "\n",
        "1. Bag Of Words (BOW) :- list of unique words in the text corpus\n",
        "2.  Term Frequency - Inverse Document Frequecny (TF-IDF) :- To count the number of times each word appears in a document."
      ],
      "metadata": {
        "id": "2oSTtWU56W_d"
      }
    },
    {
      "cell_type": "markdown",
      "source": [
        "1. Term Frequency (TF) :- (number of times term t appears in a document) / (Number of terms in the document )\n",
        "\n",
        "2. Inverse Document Frequency (IDF) = log(N/n) , where N is the number of terms in a document and n is the number of times t appears in the document\n",
        "\n",
        "=> The IDF value of a rare word is high , whereas the IDF of a frequent word is low.\n",
        "\n",
        "=>    TF-IDF value of a term = TF * IDF"
      ],
      "metadata": {
        "id": "sY9vi8L97SAF"
      }
    },
    {
      "cell_type": "markdown",
      "source": [
        "About the Dataset:\n",
        "\n",
        "1. id: unique id for a news article\n",
        "2. title: the title of a news article\n",
        "3. author: author of the news article\n",
        "4. text: the text of the article; could be incomplete\n",
        "5. label: a label that marks whether the news article 6. is real or fake: 1: Fake news 0: real News"
      ],
      "metadata": {
        "id": "hErTf-a-muQ_"
      }
    },
    {
      "cell_type": "markdown",
      "source": [
        "Importing the Dependencies"
      ],
      "metadata": {
        "id": "Jf3IxvzSm7-_"
      }
    },
    {
      "cell_type": "code",
      "execution_count": null,
      "metadata": {
        "id": "549mwN4keSaJ"
      },
      "outputs": [],
      "source": [
        "import numpy as np\n",
        "import pandas as pd\n",
        "import re\n",
        "from nltk.corpus import stopwords\n",
        "from nltk.stem.porter import PorterStemmer\n",
        "from sklearn.feature_extraction.text import TfidfVectorizer"
      ]
    },
    {
      "cell_type": "markdown",
      "source": [
        "Data Pre-processing"
      ],
      "metadata": {
        "id": "q5pYELBQnKUa"
      }
    },
    {
      "cell_type": "code",
      "source": [
        "# loading the dataset to a pandas DataFrame\n",
        "# refer to the below link for understanding\n",
        "# https://github.com/siddhardhan23/Complete-Machine-Learning-Course-Part-1/blob/main/4.8.%20Feature_extraction_of_Text_data_using_Tf_idf_Vectorizer.ipynb"
      ],
      "metadata": {
        "id": "P6mojlpTnFrN"
      },
      "execution_count": null,
      "outputs": []
    },
    {
      "cell_type": "code",
      "source": [],
      "metadata": {
        "id": "-pZqgot3nP4K"
      },
      "execution_count": null,
      "outputs": []
    }
  ]
}