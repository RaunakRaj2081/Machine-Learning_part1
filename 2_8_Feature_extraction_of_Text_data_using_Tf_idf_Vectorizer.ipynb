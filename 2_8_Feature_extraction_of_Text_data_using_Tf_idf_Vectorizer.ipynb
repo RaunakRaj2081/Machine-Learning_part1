{
  "nbformat": 4,
  "nbformat_minor": 0,
  "metadata": {
    "colab": {
      "provenance": [],
      "authorship_tag": "ABX9TyMUjpsQlj47LoDl65mK5Rza",
      "include_colab_link": true
    },
    "kernelspec": {
      "name": "python3",
      "display_name": "Python 3"
    },
    "language_info": {
      "name": "python"
    }
  },
  "cells": [
    {
      "cell_type": "markdown",
      "metadata": {
        "id": "view-in-github",
        "colab_type": "text"
      },
      "source": [
        "<a href=\"https://colab.research.google.com/github/RaunakRaj2081/Machine-Learning_part1/blob/main/2_8_Feature_extraction_of_Text_data_using_Tf_idf_Vectorizer.ipynb\" target=\"_parent\"><img src=\"https://colab.research.google.com/assets/colab-badge.svg\" alt=\"Open In Colab\"/></a>"
      ]
    },
    {
      "cell_type": "markdown",
      "source": [
        "About the Dataset:\n",
        "\n",
        "1. id: unique id for a news article\n",
        "2. title: the title of a news article\n",
        "3. author: author of the news article\n",
        "4. text: the text of the article; could be incomplete\n",
        "5. label: a label that marks whether the news article 6. is real or fake: 1: Fake news 0: real News"
      ],
      "metadata": {
        "id": "hErTf-a-muQ_"
      }
    },
    {
      "cell_type": "markdown",
      "source": [
        "Importing the Dependencies"
      ],
      "metadata": {
        "id": "Jf3IxvzSm7-_"
      }
    },
    {
      "cell_type": "code",
      "execution_count": 2,
      "metadata": {
        "id": "549mwN4keSaJ"
      },
      "outputs": [],
      "source": [
        "import numpy as np\n",
        "import pandas as pd\n",
        "import re\n",
        "from nltk.corpus import stopwords\n",
        "from nltk.stem.porter import PorterStemmer\n",
        "from sklearn.feature_extraction.text import TfidfVectorizer"
      ]
    },
    {
      "cell_type": "markdown",
      "source": [
        "Data Pre-processing"
      ],
      "metadata": {
        "id": "q5pYELBQnKUa"
      }
    },
    {
      "cell_type": "code",
      "source": [
        "# loading the dataset to a pandas DataFrame\n",
        "# refer to the below link for understanding\n",
        "# https://github.com/siddhardhan23/Complete-Machine-Learning-Course-Part-1/blob/main/4.8.%20Feature_extraction_of_Text_data_using_Tf_idf_Vectorizer.ipynb"
      ],
      "metadata": {
        "id": "P6mojlpTnFrN"
      },
      "execution_count": 4,
      "outputs": []
    },
    {
      "cell_type": "code",
      "source": [],
      "metadata": {
        "id": "-pZqgot3nP4K"
      },
      "execution_count": null,
      "outputs": []
    }
  ]
}