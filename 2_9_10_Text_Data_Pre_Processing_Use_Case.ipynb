{
  "nbformat": 4,
  "nbformat_minor": 0,
  "metadata": {
    "colab": {
      "provenance": [],
      "authorship_tag": "ABX9TyNZQxN5rcmz5mBuH8ZJPJ+n",
      "include_colab_link": true
    },
    "kernelspec": {
      "name": "python3",
      "display_name": "Python 3"
    },
    "language_info": {
      "name": "python"
    }
  },
  "cells": [
    {
      "cell_type": "markdown",
      "metadata": {
        "id": "view-in-github",
        "colab_type": "text"
      },
      "source": [
        "<a href=\"https://colab.research.google.com/github/RaunakRaj2081/Machine-Learning_part1/blob/main/2_9_10_Text_Data_Pre_Processing_Use_Case.ipynb\" target=\"_parent\"><img src=\"https://colab.research.google.com/assets/colab-badge.svg\" alt=\"Open In Colab\"/></a>"
      ]
    },
    {
      "cell_type": "markdown",
      "source": [
        "Importing the Dependencies"
      ],
      "metadata": {
        "id": "gvpTwVeGhrJ6"
      }
    },
    {
      "cell_type": "code",
      "execution_count": 3,
      "metadata": {
        "id": "NPjW2-GHFQhH"
      },
      "outputs": [],
      "source": [
        "import numpy as np\n",
        "import pandas as pd\n",
        "import re\n",
        "import nltk\n",
        "from nltk.corpus import stopwords\n",
        "from nltk.stem.porter import PorterStemmer\n",
        "from sklearn.feature_extraction.text import TfidfVectorizer\n",
        "from sklearn.model_selection import train_test_split"
      ]
    },
    {
      "cell_type": "code",
      "source": [
        "nltk.download('stopwords')"
      ],
      "metadata": {
        "colab": {
          "base_uri": "https://localhost:8080/"
        },
        "id": "CrwsSpWyhu5R",
        "outputId": "f5c2eaff-421f-4741-803e-3ae5f491a5f2"
      },
      "execution_count": 4,
      "outputs": [
        {
          "output_type": "stream",
          "name": "stderr",
          "text": [
            "[nltk_data] Downloading package stopwords to /root/nltk_data...\n",
            "[nltk_data]   Unzipping corpora/stopwords.zip.\n"
          ]
        },
        {
          "output_type": "execute_result",
          "data": {
            "text/plain": [
              "True"
            ]
          },
          "metadata": {},
          "execution_count": 4
        }
      ]
    },
    {
      "cell_type": "code",
      "source": [
        "nltk.download('stopwords')"
      ],
      "metadata": {
        "id": "SWgnwqOOj2tl",
        "outputId": "4d4ec90b-8642-4113-beb5-7dafa2aa4e25",
        "colab": {
          "base_uri": "https://localhost:8080/"
        }
      },
      "execution_count": 3,
      "outputs": [
        {
          "output_type": "stream",
          "name": "stderr",
          "text": [
            "[nltk_data] Downloading package stopwords to /root/nltk_data...\n",
            "[nltk_data]   Package stopwords is already up-to-date!\n"
          ]
        },
        {
          "output_type": "execute_result",
          "data": {
            "text/plain": [
              "True"
            ]
          },
          "metadata": {},
          "execution_count": 3
        }
      ]
    },
    {
      "cell_type": "markdown",
      "source": [
        "#Data Pre-Processing"
      ],
      "metadata": {
        "id": "sBlFtbr2j7hE"
      }
    },
    {
      "cell_type": "code",
      "source": [
        "# Use Python's built-in file handling to inspect the problematic line\n",
        "file_path = '/content/WELFake_Dataset.csv'\n",
        "target_line_number = 8288 # Error is at row 8287, which is likely line 8288 including header\n",
        "\n",
        "try:\n",
        "    with open(file_path, 'r', encoding='utf-8') as f:\n",
        "        lines = f.readlines()\n",
        "\n",
        "    # Print lines around the target line number (e.g., 5 lines before and 5 lines after)\n",
        "    start_index = max(0, target_line_number - 6) # -1 for 0-indexing, -5 to show previous 5 lines\n",
        "    end_index = min(len(lines), target_line_number + 5) # +5 to show next 5 lines\n",
        "\n",
        "    print(f\"Inspecting lines from {start_index + 1} to {end_index} (0-indexed: {start_index} to {end_index-1}):\")\n",
        "    print(\"-\" * 30) # Separator\n",
        "\n",
        "    for i in range(start_index, end_index):\n",
        "        # Print the line number and the raw line content (strip just trailing newline for clarity)\n",
        "        print(f\"Line {i + 1}: {lines[i].rstrip()}\")\n",
        "\n",
        "    print(\"-\" * 30) # Separator\n",
        "\n",
        "except FileNotFoundError:\n",
        "    print(f\"Error: File not found at {file_path}\")\n",
        "except Exception as e:\n",
        "    print(f\"An error occurred while reading the file: {e}\")"
      ],
      "metadata": {
        "id": "RwK3VPaYj3yW",
        "outputId": "4363cac3-1480-4b8c-e915-c4dae7084417",
        "colab": {
          "base_uri": "https://localhost:8080/"
        }
      },
      "execution_count": 8,
      "outputs": [
        {
          "output_type": "stream",
          "name": "stdout",
          "text": [
            "Inspecting lines from 8283 to 8293 (0-indexed: 8282 to 8292):\n",
            "------------------------------\n",
            "Line 8283: \n",
            "Line 8284: Armstrong claims that \"\"the police are now taking more assets than the criminals,\"\" but this isn't exactly right: The FBI also tracks property losses from larceny and theft, in addition to plain ol' burglary. If you add up all the property stolen in 2014, from burglary, theft, motor vehicle theft and other means, you arrive at roughly $12.3 billion, according to the FBI. That's more than double the federal asset forfeiture haul.\n",
            "Line 8285: \n",
            "Line 8286: One other point: Those asset forfeiture deposit amounts are not necessarily the best indicator of a rise in the use of forfeiture. \"\"In a given year, one or two high-dollar cases may produce unusually large amounts of money — with a portion going back to victims — thereby telling a noisy story of year-to-year activity levels,\"\" the Institute for Justice explains. A big chunk of that 2014 deposit, for instance, was the $1.7 billion Bernie Madoff judgment, most of which flowed back to the victims.\n",
            "Line 8287: \n",
            "Line 8288: For that reason, the net assets of the funds are usually seen as a more stable indicator — those numbers show how much money is left over in the funds each year after the federal government takes care of various obligations, like payments to victims. Since this number can reflect monies taken over multiple calendar years, it's less comparable to the annual burglary statistics.\n",
            "Line 8289: \n",
            "Line 8290: Still, even this more stable indicator hit $4.5 billion in 2014, according to the Institute for Justice — higher again than the burglary losses that year.\n",
            "Line 8291: \n",
            "Line 8292: One final caveat is that these are only the federal totals and don't reflect how much property is seized by state and local police each year. Reliable data for all 50 states is unavailable, but the Institute of Justice found that the total asset forfeiture haul for 14 states topped $250 million in 2013. The grand 50-state total would probably be much higher.\n",
            "Line 8293: \n",
            "------------------------------\n"
          ]
        }
      ]
    },
    {
      "cell_type": "code",
      "source": [
        "# load the data to a pandas dataframe\n",
        "# Added engine='python' and on_bad_lines='skip' to handle potential parsing errors\n",
        "# on_bad_lines='skip' will skip rows that cause parsing issues. Use with caution.\n",
        "# If you are using pandas version < 1.4.0, use error_bad_lines=False instead of on_bad_lines='skip'\n",
        "news_data = pd.read_csv('/content/WELFake_Dataset.csv', engine='python', on_bad_lines='skip')\n",
        "\n",
        "# You can also use 'warn' to see which lines are skipped:\n",
        "# news_data = pd.read_csv('/content/WELFake_Dataset.csv', engine='python', on_bad_lines='warn')"
      ],
      "metadata": {
        "id": "VIxtEy1QoVsV"
      },
      "execution_count": 10,
      "outputs": []
    },
    {
      "cell_type": "code",
      "source": [
        "# first 5 rows of the dataset\n",
        "news_data.head()"
      ],
      "metadata": {
        "id": "3EYO0JDDkG3_",
        "outputId": "ebbdf8d5-bb13-49b5-ff04-9522bd9b16ab",
        "colab": {
          "base_uri": "https://localhost:8080/",
          "height": 206
        }
      },
      "execution_count": 11,
      "outputs": [
        {
          "output_type": "execute_result",
          "data": {
            "text/plain": [
              "  Unnamed: 0                                              title  \\\n",
              "0          0  LAW ENFORCEMENT ON HIGH ALERT Following Threat...   \n",
              "1          1                                                NaN   \n",
              "2          2  UNBELIEVABLE! OBAMA’S ATTORNEY GENERAL SAYS MO...   \n",
              "3          3  Bobby Jindal, raised Hindu, uses story of Chri...   \n",
              "4          4  SATAN 2: Russia unvelis an image of its terrif...   \n",
              "\n",
              "                                                text label  \n",
              "0  No comment is expected from Barack Obama Membe...     1  \n",
              "1     Did they post their votes for Hillary already?     1  \n",
              "2   Now, most of the demonstrators gathered last ...     1  \n",
              "3  A dozen politically active pastors came here f...     0  \n",
              "4  The RS-28 Sarmat missile, dubbed Satan 2, will...     1  "
            ],
            "text/html": [
              "\n",
              "  <div id=\"df-20963b44-b497-4ba2-930a-e9faff4dabf9\" class=\"colab-df-container\">\n",
              "    <div>\n",
              "<style scoped>\n",
              "    .dataframe tbody tr th:only-of-type {\n",
              "        vertical-align: middle;\n",
              "    }\n",
              "\n",
              "    .dataframe tbody tr th {\n",
              "        vertical-align: top;\n",
              "    }\n",
              "\n",
              "    .dataframe thead th {\n",
              "        text-align: right;\n",
              "    }\n",
              "</style>\n",
              "<table border=\"1\" class=\"dataframe\">\n",
              "  <thead>\n",
              "    <tr style=\"text-align: right;\">\n",
              "      <th></th>\n",
              "      <th>Unnamed: 0</th>\n",
              "      <th>title</th>\n",
              "      <th>text</th>\n",
              "      <th>label</th>\n",
              "    </tr>\n",
              "  </thead>\n",
              "  <tbody>\n",
              "    <tr>\n",
              "      <th>0</th>\n",
              "      <td>0</td>\n",
              "      <td>LAW ENFORCEMENT ON HIGH ALERT Following Threat...</td>\n",
              "      <td>No comment is expected from Barack Obama Membe...</td>\n",
              "      <td>1</td>\n",
              "    </tr>\n",
              "    <tr>\n",
              "      <th>1</th>\n",
              "      <td>1</td>\n",
              "      <td>NaN</td>\n",
              "      <td>Did they post their votes for Hillary already?</td>\n",
              "      <td>1</td>\n",
              "    </tr>\n",
              "    <tr>\n",
              "      <th>2</th>\n",
              "      <td>2</td>\n",
              "      <td>UNBELIEVABLE! OBAMA’S ATTORNEY GENERAL SAYS MO...</td>\n",
              "      <td>Now, most of the demonstrators gathered last ...</td>\n",
              "      <td>1</td>\n",
              "    </tr>\n",
              "    <tr>\n",
              "      <th>3</th>\n",
              "      <td>3</td>\n",
              "      <td>Bobby Jindal, raised Hindu, uses story of Chri...</td>\n",
              "      <td>A dozen politically active pastors came here f...</td>\n",
              "      <td>0</td>\n",
              "    </tr>\n",
              "    <tr>\n",
              "      <th>4</th>\n",
              "      <td>4</td>\n",
              "      <td>SATAN 2: Russia unvelis an image of its terrif...</td>\n",
              "      <td>The RS-28 Sarmat missile, dubbed Satan 2, will...</td>\n",
              "      <td>1</td>\n",
              "    </tr>\n",
              "  </tbody>\n",
              "</table>\n",
              "</div>\n",
              "    <div class=\"colab-df-buttons\">\n",
              "\n",
              "  <div class=\"colab-df-container\">\n",
              "    <button class=\"colab-df-convert\" onclick=\"convertToInteractive('df-20963b44-b497-4ba2-930a-e9faff4dabf9')\"\n",
              "            title=\"Convert this dataframe to an interactive table.\"\n",
              "            style=\"display:none;\">\n",
              "\n",
              "  <svg xmlns=\"http://www.w3.org/2000/svg\" height=\"24px\" viewBox=\"0 -960 960 960\">\n",
              "    <path d=\"M120-120v-720h720v720H120Zm60-500h600v-160H180v160Zm220 220h160v-160H400v160Zm0 220h160v-160H400v160ZM180-400h160v-160H180v160Zm440 0h160v-160H620v160ZM180-180h160v-160H180v160Zm440 0h160v-160H620v160Z\"/>\n",
              "  </svg>\n",
              "    </button>\n",
              "\n",
              "  <style>\n",
              "    .colab-df-container {\n",
              "      display:flex;\n",
              "      gap: 12px;\n",
              "    }\n",
              "\n",
              "    .colab-df-convert {\n",
              "      background-color: #E8F0FE;\n",
              "      border: none;\n",
              "      border-radius: 50%;\n",
              "      cursor: pointer;\n",
              "      display: none;\n",
              "      fill: #1967D2;\n",
              "      height: 32px;\n",
              "      padding: 0 0 0 0;\n",
              "      width: 32px;\n",
              "    }\n",
              "\n",
              "    .colab-df-convert:hover {\n",
              "      background-color: #E2EBFA;\n",
              "      box-shadow: 0px 1px 2px rgba(60, 64, 67, 0.3), 0px 1px 3px 1px rgba(60, 64, 67, 0.15);\n",
              "      fill: #174EA6;\n",
              "    }\n",
              "\n",
              "    .colab-df-buttons div {\n",
              "      margin-bottom: 4px;\n",
              "    }\n",
              "\n",
              "    [theme=dark] .colab-df-convert {\n",
              "      background-color: #3B4455;\n",
              "      fill: #D2E3FC;\n",
              "    }\n",
              "\n",
              "    [theme=dark] .colab-df-convert:hover {\n",
              "      background-color: #434B5C;\n",
              "      box-shadow: 0px 1px 3px 1px rgba(0, 0, 0, 0.15);\n",
              "      filter: drop-shadow(0px 1px 2px rgba(0, 0, 0, 0.3));\n",
              "      fill: #FFFFFF;\n",
              "    }\n",
              "  </style>\n",
              "\n",
              "    <script>\n",
              "      const buttonEl =\n",
              "        document.querySelector('#df-20963b44-b497-4ba2-930a-e9faff4dabf9 button.colab-df-convert');\n",
              "      buttonEl.style.display =\n",
              "        google.colab.kernel.accessAllowed ? 'block' : 'none';\n",
              "\n",
              "      async function convertToInteractive(key) {\n",
              "        const element = document.querySelector('#df-20963b44-b497-4ba2-930a-e9faff4dabf9');\n",
              "        const dataTable =\n",
              "          await google.colab.kernel.invokeFunction('convertToInteractive',\n",
              "                                                    [key], {});\n",
              "        if (!dataTable) return;\n",
              "\n",
              "        const docLinkHtml = 'Like what you see? Visit the ' +\n",
              "          '<a target=\"_blank\" href=https://colab.research.google.com/notebooks/data_table.ipynb>data table notebook</a>'\n",
              "          + ' to learn more about interactive tables.';\n",
              "        element.innerHTML = '';\n",
              "        dataTable['output_type'] = 'display_data';\n",
              "        await google.colab.output.renderOutput(dataTable, element);\n",
              "        const docLink = document.createElement('div');\n",
              "        docLink.innerHTML = docLinkHtml;\n",
              "        element.appendChild(docLink);\n",
              "      }\n",
              "    </script>\n",
              "  </div>\n",
              "\n",
              "\n",
              "    <div id=\"df-5bc21ee7-afcd-44a1-ab63-baf20e60388e\">\n",
              "      <button class=\"colab-df-quickchart\" onclick=\"quickchart('df-5bc21ee7-afcd-44a1-ab63-baf20e60388e')\"\n",
              "                title=\"Suggest charts\"\n",
              "                style=\"display:none;\">\n",
              "\n",
              "<svg xmlns=\"http://www.w3.org/2000/svg\" height=\"24px\"viewBox=\"0 0 24 24\"\n",
              "     width=\"24px\">\n",
              "    <g>\n",
              "        <path d=\"M19 3H5c-1.1 0-2 .9-2 2v14c0 1.1.9 2 2 2h14c1.1 0 2-.9 2-2V5c0-1.1-.9-2-2-2zM9 17H7v-7h2v7zm4 0h-2V7h2v10zm4 0h-2v-4h2v4z\"/>\n",
              "    </g>\n",
              "</svg>\n",
              "      </button>\n",
              "\n",
              "<style>\n",
              "  .colab-df-quickchart {\n",
              "      --bg-color: #E8F0FE;\n",
              "      --fill-color: #1967D2;\n",
              "      --hover-bg-color: #E2EBFA;\n",
              "      --hover-fill-color: #174EA6;\n",
              "      --disabled-fill-color: #AAA;\n",
              "      --disabled-bg-color: #DDD;\n",
              "  }\n",
              "\n",
              "  [theme=dark] .colab-df-quickchart {\n",
              "      --bg-color: #3B4455;\n",
              "      --fill-color: #D2E3FC;\n",
              "      --hover-bg-color: #434B5C;\n",
              "      --hover-fill-color: #FFFFFF;\n",
              "      --disabled-bg-color: #3B4455;\n",
              "      --disabled-fill-color: #666;\n",
              "  }\n",
              "\n",
              "  .colab-df-quickchart {\n",
              "    background-color: var(--bg-color);\n",
              "    border: none;\n",
              "    border-radius: 50%;\n",
              "    cursor: pointer;\n",
              "    display: none;\n",
              "    fill: var(--fill-color);\n",
              "    height: 32px;\n",
              "    padding: 0;\n",
              "    width: 32px;\n",
              "  }\n",
              "\n",
              "  .colab-df-quickchart:hover {\n",
              "    background-color: var(--hover-bg-color);\n",
              "    box-shadow: 0 1px 2px rgba(60, 64, 67, 0.3), 0 1px 3px 1px rgba(60, 64, 67, 0.15);\n",
              "    fill: var(--button-hover-fill-color);\n",
              "  }\n",
              "\n",
              "  .colab-df-quickchart-complete:disabled,\n",
              "  .colab-df-quickchart-complete:disabled:hover {\n",
              "    background-color: var(--disabled-bg-color);\n",
              "    fill: var(--disabled-fill-color);\n",
              "    box-shadow: none;\n",
              "  }\n",
              "\n",
              "  .colab-df-spinner {\n",
              "    border: 2px solid var(--fill-color);\n",
              "    border-color: transparent;\n",
              "    border-bottom-color: var(--fill-color);\n",
              "    animation:\n",
              "      spin 1s steps(1) infinite;\n",
              "  }\n",
              "\n",
              "  @keyframes spin {\n",
              "    0% {\n",
              "      border-color: transparent;\n",
              "      border-bottom-color: var(--fill-color);\n",
              "      border-left-color: var(--fill-color);\n",
              "    }\n",
              "    20% {\n",
              "      border-color: transparent;\n",
              "      border-left-color: var(--fill-color);\n",
              "      border-top-color: var(--fill-color);\n",
              "    }\n",
              "    30% {\n",
              "      border-color: transparent;\n",
              "      border-left-color: var(--fill-color);\n",
              "      border-top-color: var(--fill-color);\n",
              "      border-right-color: var(--fill-color);\n",
              "    }\n",
              "    40% {\n",
              "      border-color: transparent;\n",
              "      border-right-color: var(--fill-color);\n",
              "      border-top-color: var(--fill-color);\n",
              "    }\n",
              "    60% {\n",
              "      border-color: transparent;\n",
              "      border-right-color: var(--fill-color);\n",
              "    }\n",
              "    80% {\n",
              "      border-color: transparent;\n",
              "      border-right-color: var(--fill-color);\n",
              "      border-bottom-color: var(--fill-color);\n",
              "    }\n",
              "    90% {\n",
              "      border-color: transparent;\n",
              "      border-bottom-color: var(--fill-color);\n",
              "    }\n",
              "  }\n",
              "</style>\n",
              "\n",
              "      <script>\n",
              "        async function quickchart(key) {\n",
              "          const quickchartButtonEl =\n",
              "            document.querySelector('#' + key + ' button');\n",
              "          quickchartButtonEl.disabled = true;  // To prevent multiple clicks.\n",
              "          quickchartButtonEl.classList.add('colab-df-spinner');\n",
              "          try {\n",
              "            const charts = await google.colab.kernel.invokeFunction(\n",
              "                'suggestCharts', [key], {});\n",
              "          } catch (error) {\n",
              "            console.error('Error during call to suggestCharts:', error);\n",
              "          }\n",
              "          quickchartButtonEl.classList.remove('colab-df-spinner');\n",
              "          quickchartButtonEl.classList.add('colab-df-quickchart-complete');\n",
              "        }\n",
              "        (() => {\n",
              "          let quickchartButtonEl =\n",
              "            document.querySelector('#df-5bc21ee7-afcd-44a1-ab63-baf20e60388e button');\n",
              "          quickchartButtonEl.style.display =\n",
              "            google.colab.kernel.accessAllowed ? 'block' : 'none';\n",
              "        })();\n",
              "      </script>\n",
              "    </div>\n",
              "\n",
              "    </div>\n",
              "  </div>\n"
            ],
            "application/vnd.google.colaboratory.intrinsic+json": {
              "type": "dataframe",
              "variable_name": "news_data",
              "summary": "{\n  \"name\": \"news_data\",\n  \"rows\": 18979,\n  \"fields\": [\n    {\n      \"column\": \"Unnamed: 0\",\n      \"properties\": {\n        \"dtype\": \"string\",\n        \"num_unique_values\": 18979,\n        \"samples\": [\n          \"15435\",\n          \"6614\",\n          \"4709\"\n        ],\n        \"semantic_type\": \"\",\n        \"description\": \"\"\n      }\n    },\n    {\n      \"column\": \"title\",\n      \"properties\": {\n        \"dtype\": \"string\",\n        \"num_unique_values\": 18198,\n        \"samples\": [\n          \"FOREIGN BORN ALIEN WITH 4 FELONIES ARRESTED FOR BRUTAL BEATING AND RAPE OF WOMEN WHO WAS HELPING HIM\",\n          \"Bountiful Afghan Opium Harvest Yields Profits for the Taliban - The New York Times\",\n          \" Trump Whines Incoherently About \\u2018Russian Witch Hunt\\u2019 And The Internet Laughs At Him (TWEETS)\"\n        ],\n        \"semantic_type\": \"\",\n        \"description\": \"\"\n      }\n    },\n    {\n      \"column\": \"text\",\n      \"properties\": {\n        \"dtype\": \"string\",\n        \"num_unique_values\": 18096,\n        \"samples\": [\n          \"The racist Ku Klux Klan is very pleased that Donald Trump has been elected president of the United States in the 2016 election and one chapter of the terrorist group is holding a parade to celebrate his victory.The website for Loyal White Knights of the Ku Klux Klan located in North Carolina announced that they will hold a  klavalkade Klan parade  on December 3rd in order to hail the occasion of the Republican nominee winning.They write:Our goal is to help restore America to a White Christian nation, founded on God s word. This does not mean that we want to see anything bad happen to the darker races   we simply want to live separate from them   As GOD intended. (Lev.20:24-25) It is a simple fact that whenever these races try to integrate themselves into White society, that society is damaged immensely   perhaps even destroyed altogether. Everything that we do as Klan members is in furtherance of our ultimate goal. We are not evil; hateful people as our enemies would have you believe. We are common white people from all walks of life who have recognized the problems that our race is facing. We have chose to stand and fight for those things that we hold dear to our people. Won t you stand with us, while there is still time! It is the duty of all white Christian men and women to fight against the Communist who have stolen our Nation The Trump campaign spent a lot of time courting and promoting white supremacists. They invited white supremacists radio shows to broadcast from campaign stops and on the floor of the Republican Convention, while members of the Trump family also appeared on those programs. Trump himself has promoted tweets from white supremacists, and received an endorsement from former klansman and Republican candidate David Duke.Featured image via screen capture\",\n          \"WASHINGTON (Reuters) - President Donald Trump will sign an executive order on Saturday seeking to identify any problems caused by the nation\\u2019s existing trade agreements, including an examination of U.S. involvement in the World Trade Organization, a top trade official said. Commerce Secretary Wilbur Ross said his department would work to issue a report in 180 days outlining challenges with these trade deals and possible solutions. Ross singled out the World Trade Organization as an entity that may need to make some changes, although he cautioned that the administration had not made any decisions yet. \\u201cThere\\u2019s always the potential for amending organization\\u2019s charters like the WTO, particularly when you\\u2019re in the position we are,\\u201d he said. \\u201cWe\\u2019re the number one importer in the whole world.\\u201d Ross raised concerns that the WTO is too bureaucratic and does not hold meetings often enough. He also argued that the WTO has an \\u201cinstitutional bias\\u201d in favor of exporters and against countries that are being \\u201cbeleaguered by inappropriate imports.\\u201d Remaking U.S. trade relations has been a top priority for Trump, who has argued that the United States has been treated unfairly in international trade. Trump said on Thursday that he had been prepared to terminate the North American Free Trade Agreement (NAFTA) with Canada and Mexico, but backed off after calls from the leaders of those two countries. The effects of NAFTA on the U.S. economy will also be examined in the new study. Last month, Trump also issued an order calling for a major review of the causes of all U.S. trade deficits.  \",\n          \"In a highly unusual turn of events for a sitting president, a federal judge in Florida on Wednesday ordered a golf resort owned by President Trump to pay $5. 7 million for refusing to refund deposits to members who wanted to resign from the club. In his ruling, the judge said that Mr. Trump, by sending a letter in late 2012 denying access to members who wanted to resign from the Trump National Golf Club in Jupiter  \\u2014   a process that could take years  \\u2014   had set off a contract clause that should have resulted in an immediate refund of their membership fees. Instead, the money was withheld. The decision is the first court judgment against a company owned by Mr. Trump since he became president last month, and underscores that while Mr. Trump has stepped away from the operations of his company, he is certain to remain dogged by legal controversies connected to his business. At his new hotel in Washington, Mr. Trump is suing two celebrity chefs for breach of contract. The two men backed out of the Trump International Hotel development in 2015 after Mr. Trump made inflammatory comments about Mexican immigrants. Separately, the federal government owns the building that houses the hotel, and some legal experts have said that Mr. Trump may be in violation of his lease, which appears to prohibit federal elected officials from leasing the building. And last month, a lawsuit was filed in federal court in Manhattan contending that Mr. Trump had violated the emoluments clause of the Constitution by allowing his hotels and other businesses to accept payments from foreign governments. Mr. Trump has not sold any of his assets, which include golf courses, commercial real estate and marketing agreements. Rather he has handed the operations of his company over to his eldest sons, Donald Jr. and Eric, a move he hopes will reduce the appearance of conflict of interest. Wednesday\\u2019s ruling  \\u2014   by Judge Kenneth Marra of Federal District Court in West Palm Beach, an appointee of President George W. Bush\\u2019s  \\u2014   calls for the club to pay $4. 85 million in withheld fees to 65 club members involved in the lawsuit, plus an additional $925, 000 in interest and other costs. As a result, those members will receive refunds of $35, 000 to $200, 000, depending on their level of membership in the club. Amanda Miller, a spokeswoman for the Trump Organization, said the company planned to appeal. \\u201cAt the time Trump purchased the club, it was suffering financially, making it unlikely that these members would ever get back their deposits,\\u201d Ms. Miller said in a statement. \\u201cAt trial, we presented overwhelming evidence that the plaintiffs\\u2019 memberships were never recalled and that the plaintiffs had waived this argument during the course of the litigation. \\u201d The dispute at the Jupiter club centered on contracts signed by club members with the facility\\u2019s previous owner,  . To join, members paid initiation fees as high as $210, 000, depending on the type of membership that they wanted. But under  \\u2019s rules those deposits were refundable when a member resigned. That process, however, could take years and while members on the resignation list waited for their turn to come up they could still use the club so long as they paid annual fees and other costs like food and beverage minimums. That all changed in 2012 when the Trump Organization bought the Jupiter club. Soon afterward, Mr. Trump sent a letter to members saying that those who wanted to resign were no longer welcome there. \\u201cI do not want them to utilize the club, nor do I want their dues,\\u201d the letter read. After club members sued, Mr. Trump testified in 2015 during a pretrial deposition that although he had signed the letter, it was his   son, Eric Trump, who was in charge of policies at the family\\u2019s golf courses. \\u201cEric is much more familiar with this club,\\u201d his father said. \\u201cHe runs it. \\u201d In his pretrial deposition, Eric Trump testified that nothing had changed and that club members seeking to resign had been allowed to use the club so long as they paid their dues. That claim, however, was disputed at trial last year. One member on the resignation list, Richard Slawson, testified that the club\\u2019s membership manager told him soon after the Trumps took it over that the club was  . But he continued to receive $6, 000 bills for annual dues and thousands in minimum charges for food and beverages that were never consumed. \\u201cI couldn\\u2019t believe that we were charged that when we were not allowed to use the club,\\u201d Mr. Slawson, a Florida lawyer, said in a recent telephone interview. Confronted with such testimony, the younger Mr. Trump during his court testimony backed off his assertions and acknowledged he had been mistaken. \\u201cHe made himself our strongest witness,\\u201d a plaintiff\\u2019s lawyer, Bradley Edwards, said about Eric Trump. \\u201cThere was no way to reconcile his prior testimony with his testimony at trial. \\u201d\"\n        ],\n        \"semantic_type\": \"\",\n        \"description\": \"\"\n      }\n    },\n    {\n      \"column\": \"label\",\n      \"properties\": {\n        \"dtype\": \"category\",\n        \"num_unique_values\": 4,\n        \"samples\": [\n          \"0\",\n          \" \\u0437\\u0430 \\u0443\\u0447\\u0430\\u0441\\u0442\\u0438\\u0435. \\u0411\\u043b\\u0430\\u0433\\u043e\\u0434\\u0430\\u0440\\u044e \\u0432\\u0430\\u0441.\",\n          \"1\"\n        ],\n        \"semantic_type\": \"\",\n        \"description\": \"\"\n      }\n    }\n  ]\n}"
            }
          },
          "metadata": {},
          "execution_count": 11
        }
      ]
    },
    {
      "cell_type": "markdown",
      "source": [
        "0 --> Real News\n",
        "\n",
        "1 --> Fake News"
      ],
      "metadata": {
        "id": "dIqTwScppgt6"
      }
    },
    {
      "cell_type": "code",
      "source": [
        "news_data.shape"
      ],
      "metadata": {
        "id": "xhyxyE67l6zP",
        "outputId": "609a88e5-a994-48d5-fab8-4bbdd9d5c73f",
        "colab": {
          "base_uri": "https://localhost:8080/"
        }
      },
      "execution_count": 12,
      "outputs": [
        {
          "output_type": "execute_result",
          "data": {
            "text/plain": [
              "(18979, 4)"
            ]
          },
          "metadata": {},
          "execution_count": 12
        }
      ]
    },
    {
      "cell_type": "code",
      "source": [
        "# checking for missing values\n",
        "news_data.isnull().sum()"
      ],
      "metadata": {
        "id": "VBf1jFFhl7Zp",
        "outputId": "fb8913ab-786d-43de-a2d9-cce741f89910",
        "colab": {
          "base_uri": "https://localhost:8080/",
          "height": 209
        }
      },
      "execution_count": 13,
      "outputs": [
        {
          "output_type": "execute_result",
          "data": {
            "text/plain": [
              "Unnamed: 0      0\n",
              "title         121\n",
              "text           29\n",
              "label          20\n",
              "dtype: int64"
            ],
            "text/html": [
              "<div>\n",
              "<style scoped>\n",
              "    .dataframe tbody tr th:only-of-type {\n",
              "        vertical-align: middle;\n",
              "    }\n",
              "\n",
              "    .dataframe tbody tr th {\n",
              "        vertical-align: top;\n",
              "    }\n",
              "\n",
              "    .dataframe thead th {\n",
              "        text-align: right;\n",
              "    }\n",
              "</style>\n",
              "<table border=\"1\" class=\"dataframe\">\n",
              "  <thead>\n",
              "    <tr style=\"text-align: right;\">\n",
              "      <th></th>\n",
              "      <th>0</th>\n",
              "    </tr>\n",
              "  </thead>\n",
              "  <tbody>\n",
              "    <tr>\n",
              "      <th>Unnamed: 0</th>\n",
              "      <td>0</td>\n",
              "    </tr>\n",
              "    <tr>\n",
              "      <th>title</th>\n",
              "      <td>121</td>\n",
              "    </tr>\n",
              "    <tr>\n",
              "      <th>text</th>\n",
              "      <td>29</td>\n",
              "    </tr>\n",
              "    <tr>\n",
              "      <th>label</th>\n",
              "      <td>20</td>\n",
              "    </tr>\n",
              "  </tbody>\n",
              "</table>\n",
              "</div><br><label><b>dtype:</b> int64</label>"
            ]
          },
          "metadata": {},
          "execution_count": 13
        }
      ]
    },
    {
      "cell_type": "code",
      "source": [
        "# replacing the missing values with null string\n",
        "news_data = news_data.fillna('')"
      ],
      "metadata": {
        "id": "dgHyq86Cl72y"
      },
      "execution_count": 14,
      "outputs": []
    },
    {
      "cell_type": "code",
      "source": [
        "# merging th eauthor name and news title\n",
        "news_data['content'] = news_data['text']+' '+news_data['title']"
      ],
      "metadata": {
        "id": "fZMvzwmSl8NI"
      },
      "execution_count": 16,
      "outputs": []
    },
    {
      "cell_type": "code",
      "source": [
        "# first 5 rows of the dataset\n",
        "news_data.head()"
      ],
      "metadata": {
        "id": "lIF1zZgemQSS",
        "outputId": "6b848931-a9d0-4ad6-96b1-aad22d6636f4",
        "colab": {
          "base_uri": "https://localhost:8080/",
          "height": 293
        }
      },
      "execution_count": 17,
      "outputs": [
        {
          "output_type": "execute_result",
          "data": {
            "text/plain": [
              "  Unnamed: 0                                              title  \\\n",
              "0          0  LAW ENFORCEMENT ON HIGH ALERT Following Threat...   \n",
              "1          1                                                      \n",
              "2          2  UNBELIEVABLE! OBAMA’S ATTORNEY GENERAL SAYS MO...   \n",
              "3          3  Bobby Jindal, raised Hindu, uses story of Chri...   \n",
              "4          4  SATAN 2: Russia unvelis an image of its terrif...   \n",
              "\n",
              "                                                text label  \\\n",
              "0  No comment is expected from Barack Obama Membe...     1   \n",
              "1     Did they post their votes for Hillary already?     1   \n",
              "2   Now, most of the demonstrators gathered last ...     1   \n",
              "3  A dozen politically active pastors came here f...     0   \n",
              "4  The RS-28 Sarmat missile, dubbed Satan 2, will...     1   \n",
              "\n",
              "                                             content  \n",
              "0  No comment is expected from Barack Obama Membe...  \n",
              "1    Did they post their votes for Hillary already?   \n",
              "2   Now, most of the demonstrators gathered last ...  \n",
              "3  A dozen politically active pastors came here f...  \n",
              "4  The RS-28 Sarmat missile, dubbed Satan 2, will...  "
            ],
            "text/html": [
              "\n",
              "  <div id=\"df-fc34552f-0a35-461d-a5ad-8b69050f4d44\" class=\"colab-df-container\">\n",
              "    <div>\n",
              "<style scoped>\n",
              "    .dataframe tbody tr th:only-of-type {\n",
              "        vertical-align: middle;\n",
              "    }\n",
              "\n",
              "    .dataframe tbody tr th {\n",
              "        vertical-align: top;\n",
              "    }\n",
              "\n",
              "    .dataframe thead th {\n",
              "        text-align: right;\n",
              "    }\n",
              "</style>\n",
              "<table border=\"1\" class=\"dataframe\">\n",
              "  <thead>\n",
              "    <tr style=\"text-align: right;\">\n",
              "      <th></th>\n",
              "      <th>Unnamed: 0</th>\n",
              "      <th>title</th>\n",
              "      <th>text</th>\n",
              "      <th>label</th>\n",
              "      <th>content</th>\n",
              "    </tr>\n",
              "  </thead>\n",
              "  <tbody>\n",
              "    <tr>\n",
              "      <th>0</th>\n",
              "      <td>0</td>\n",
              "      <td>LAW ENFORCEMENT ON HIGH ALERT Following Threat...</td>\n",
              "      <td>No comment is expected from Barack Obama Membe...</td>\n",
              "      <td>1</td>\n",
              "      <td>No comment is expected from Barack Obama Membe...</td>\n",
              "    </tr>\n",
              "    <tr>\n",
              "      <th>1</th>\n",
              "      <td>1</td>\n",
              "      <td></td>\n",
              "      <td>Did they post their votes for Hillary already?</td>\n",
              "      <td>1</td>\n",
              "      <td>Did they post their votes for Hillary already?</td>\n",
              "    </tr>\n",
              "    <tr>\n",
              "      <th>2</th>\n",
              "      <td>2</td>\n",
              "      <td>UNBELIEVABLE! OBAMA’S ATTORNEY GENERAL SAYS MO...</td>\n",
              "      <td>Now, most of the demonstrators gathered last ...</td>\n",
              "      <td>1</td>\n",
              "      <td>Now, most of the demonstrators gathered last ...</td>\n",
              "    </tr>\n",
              "    <tr>\n",
              "      <th>3</th>\n",
              "      <td>3</td>\n",
              "      <td>Bobby Jindal, raised Hindu, uses story of Chri...</td>\n",
              "      <td>A dozen politically active pastors came here f...</td>\n",
              "      <td>0</td>\n",
              "      <td>A dozen politically active pastors came here f...</td>\n",
              "    </tr>\n",
              "    <tr>\n",
              "      <th>4</th>\n",
              "      <td>4</td>\n",
              "      <td>SATAN 2: Russia unvelis an image of its terrif...</td>\n",
              "      <td>The RS-28 Sarmat missile, dubbed Satan 2, will...</td>\n",
              "      <td>1</td>\n",
              "      <td>The RS-28 Sarmat missile, dubbed Satan 2, will...</td>\n",
              "    </tr>\n",
              "  </tbody>\n",
              "</table>\n",
              "</div>\n",
              "    <div class=\"colab-df-buttons\">\n",
              "\n",
              "  <div class=\"colab-df-container\">\n",
              "    <button class=\"colab-df-convert\" onclick=\"convertToInteractive('df-fc34552f-0a35-461d-a5ad-8b69050f4d44')\"\n",
              "            title=\"Convert this dataframe to an interactive table.\"\n",
              "            style=\"display:none;\">\n",
              "\n",
              "  <svg xmlns=\"http://www.w3.org/2000/svg\" height=\"24px\" viewBox=\"0 -960 960 960\">\n",
              "    <path d=\"M120-120v-720h720v720H120Zm60-500h600v-160H180v160Zm220 220h160v-160H400v160Zm0 220h160v-160H400v160ZM180-400h160v-160H180v160Zm440 0h160v-160H620v160ZM180-180h160v-160H180v160Zm440 0h160v-160H620v160Z\"/>\n",
              "  </svg>\n",
              "    </button>\n",
              "\n",
              "  <style>\n",
              "    .colab-df-container {\n",
              "      display:flex;\n",
              "      gap: 12px;\n",
              "    }\n",
              "\n",
              "    .colab-df-convert {\n",
              "      background-color: #E8F0FE;\n",
              "      border: none;\n",
              "      border-radius: 50%;\n",
              "      cursor: pointer;\n",
              "      display: none;\n",
              "      fill: #1967D2;\n",
              "      height: 32px;\n",
              "      padding: 0 0 0 0;\n",
              "      width: 32px;\n",
              "    }\n",
              "\n",
              "    .colab-df-convert:hover {\n",
              "      background-color: #E2EBFA;\n",
              "      box-shadow: 0px 1px 2px rgba(60, 64, 67, 0.3), 0px 1px 3px 1px rgba(60, 64, 67, 0.15);\n",
              "      fill: #174EA6;\n",
              "    }\n",
              "\n",
              "    .colab-df-buttons div {\n",
              "      margin-bottom: 4px;\n",
              "    }\n",
              "\n",
              "    [theme=dark] .colab-df-convert {\n",
              "      background-color: #3B4455;\n",
              "      fill: #D2E3FC;\n",
              "    }\n",
              "\n",
              "    [theme=dark] .colab-df-convert:hover {\n",
              "      background-color: #434B5C;\n",
              "      box-shadow: 0px 1px 3px 1px rgba(0, 0, 0, 0.15);\n",
              "      filter: drop-shadow(0px 1px 2px rgba(0, 0, 0, 0.3));\n",
              "      fill: #FFFFFF;\n",
              "    }\n",
              "  </style>\n",
              "\n",
              "    <script>\n",
              "      const buttonEl =\n",
              "        document.querySelector('#df-fc34552f-0a35-461d-a5ad-8b69050f4d44 button.colab-df-convert');\n",
              "      buttonEl.style.display =\n",
              "        google.colab.kernel.accessAllowed ? 'block' : 'none';\n",
              "\n",
              "      async function convertToInteractive(key) {\n",
              "        const element = document.querySelector('#df-fc34552f-0a35-461d-a5ad-8b69050f4d44');\n",
              "        const dataTable =\n",
              "          await google.colab.kernel.invokeFunction('convertToInteractive',\n",
              "                                                    [key], {});\n",
              "        if (!dataTable) return;\n",
              "\n",
              "        const docLinkHtml = 'Like what you see? Visit the ' +\n",
              "          '<a target=\"_blank\" href=https://colab.research.google.com/notebooks/data_table.ipynb>data table notebook</a>'\n",
              "          + ' to learn more about interactive tables.';\n",
              "        element.innerHTML = '';\n",
              "        dataTable['output_type'] = 'display_data';\n",
              "        await google.colab.output.renderOutput(dataTable, element);\n",
              "        const docLink = document.createElement('div');\n",
              "        docLink.innerHTML = docLinkHtml;\n",
              "        element.appendChild(docLink);\n",
              "      }\n",
              "    </script>\n",
              "  </div>\n",
              "\n",
              "\n",
              "    <div id=\"df-16c48300-3775-479c-b5fa-35b519a33db5\">\n",
              "      <button class=\"colab-df-quickchart\" onclick=\"quickchart('df-16c48300-3775-479c-b5fa-35b519a33db5')\"\n",
              "                title=\"Suggest charts\"\n",
              "                style=\"display:none;\">\n",
              "\n",
              "<svg xmlns=\"http://www.w3.org/2000/svg\" height=\"24px\"viewBox=\"0 0 24 24\"\n",
              "     width=\"24px\">\n",
              "    <g>\n",
              "        <path d=\"M19 3H5c-1.1 0-2 .9-2 2v14c0 1.1.9 2 2 2h14c1.1 0 2-.9 2-2V5c0-1.1-.9-2-2-2zM9 17H7v-7h2v7zm4 0h-2V7h2v10zm4 0h-2v-4h2v4z\"/>\n",
              "    </g>\n",
              "</svg>\n",
              "      </button>\n",
              "\n",
              "<style>\n",
              "  .colab-df-quickchart {\n",
              "      --bg-color: #E8F0FE;\n",
              "      --fill-color: #1967D2;\n",
              "      --hover-bg-color: #E2EBFA;\n",
              "      --hover-fill-color: #174EA6;\n",
              "      --disabled-fill-color: #AAA;\n",
              "      --disabled-bg-color: #DDD;\n",
              "  }\n",
              "\n",
              "  [theme=dark] .colab-df-quickchart {\n",
              "      --bg-color: #3B4455;\n",
              "      --fill-color: #D2E3FC;\n",
              "      --hover-bg-color: #434B5C;\n",
              "      --hover-fill-color: #FFFFFF;\n",
              "      --disabled-bg-color: #3B4455;\n",
              "      --disabled-fill-color: #666;\n",
              "  }\n",
              "\n",
              "  .colab-df-quickchart {\n",
              "    background-color: var(--bg-color);\n",
              "    border: none;\n",
              "    border-radius: 50%;\n",
              "    cursor: pointer;\n",
              "    display: none;\n",
              "    fill: var(--fill-color);\n",
              "    height: 32px;\n",
              "    padding: 0;\n",
              "    width: 32px;\n",
              "  }\n",
              "\n",
              "  .colab-df-quickchart:hover {\n",
              "    background-color: var(--hover-bg-color);\n",
              "    box-shadow: 0 1px 2px rgba(60, 64, 67, 0.3), 0 1px 3px 1px rgba(60, 64, 67, 0.15);\n",
              "    fill: var(--button-hover-fill-color);\n",
              "  }\n",
              "\n",
              "  .colab-df-quickchart-complete:disabled,\n",
              "  .colab-df-quickchart-complete:disabled:hover {\n",
              "    background-color: var(--disabled-bg-color);\n",
              "    fill: var(--disabled-fill-color);\n",
              "    box-shadow: none;\n",
              "  }\n",
              "\n",
              "  .colab-df-spinner {\n",
              "    border: 2px solid var(--fill-color);\n",
              "    border-color: transparent;\n",
              "    border-bottom-color: var(--fill-color);\n",
              "    animation:\n",
              "      spin 1s steps(1) infinite;\n",
              "  }\n",
              "\n",
              "  @keyframes spin {\n",
              "    0% {\n",
              "      border-color: transparent;\n",
              "      border-bottom-color: var(--fill-color);\n",
              "      border-left-color: var(--fill-color);\n",
              "    }\n",
              "    20% {\n",
              "      border-color: transparent;\n",
              "      border-left-color: var(--fill-color);\n",
              "      border-top-color: var(--fill-color);\n",
              "    }\n",
              "    30% {\n",
              "      border-color: transparent;\n",
              "      border-left-color: var(--fill-color);\n",
              "      border-top-color: var(--fill-color);\n",
              "      border-right-color: var(--fill-color);\n",
              "    }\n",
              "    40% {\n",
              "      border-color: transparent;\n",
              "      border-right-color: var(--fill-color);\n",
              "      border-top-color: var(--fill-color);\n",
              "    }\n",
              "    60% {\n",
              "      border-color: transparent;\n",
              "      border-right-color: var(--fill-color);\n",
              "    }\n",
              "    80% {\n",
              "      border-color: transparent;\n",
              "      border-right-color: var(--fill-color);\n",
              "      border-bottom-color: var(--fill-color);\n",
              "    }\n",
              "    90% {\n",
              "      border-color: transparent;\n",
              "      border-bottom-color: var(--fill-color);\n",
              "    }\n",
              "  }\n",
              "</style>\n",
              "\n",
              "      <script>\n",
              "        async function quickchart(key) {\n",
              "          const quickchartButtonEl =\n",
              "            document.querySelector('#' + key + ' button');\n",
              "          quickchartButtonEl.disabled = true;  // To prevent multiple clicks.\n",
              "          quickchartButtonEl.classList.add('colab-df-spinner');\n",
              "          try {\n",
              "            const charts = await google.colab.kernel.invokeFunction(\n",
              "                'suggestCharts', [key], {});\n",
              "          } catch (error) {\n",
              "            console.error('Error during call to suggestCharts:', error);\n",
              "          }\n",
              "          quickchartButtonEl.classList.remove('colab-df-spinner');\n",
              "          quickchartButtonEl.classList.add('colab-df-quickchart-complete');\n",
              "        }\n",
              "        (() => {\n",
              "          let quickchartButtonEl =\n",
              "            document.querySelector('#df-16c48300-3775-479c-b5fa-35b519a33db5 button');\n",
              "          quickchartButtonEl.style.display =\n",
              "            google.colab.kernel.accessAllowed ? 'block' : 'none';\n",
              "        })();\n",
              "      </script>\n",
              "    </div>\n",
              "\n",
              "    </div>\n",
              "  </div>\n"
            ],
            "application/vnd.google.colaboratory.intrinsic+json": {
              "type": "dataframe",
              "variable_name": "news_data",
              "summary": "{\n  \"name\": \"news_data\",\n  \"rows\": 18979,\n  \"fields\": [\n    {\n      \"column\": \"Unnamed: 0\",\n      \"properties\": {\n        \"dtype\": \"string\",\n        \"num_unique_values\": 18979,\n        \"samples\": [\n          \"15435\",\n          \"6614\",\n          \"4709\"\n        ],\n        \"semantic_type\": \"\",\n        \"description\": \"\"\n      }\n    },\n    {\n      \"column\": \"title\",\n      \"properties\": {\n        \"dtype\": \"string\",\n        \"num_unique_values\": 18199,\n        \"samples\": [\n          \"WHO NEEDS DEMOCRATS? GOP Consultant Says Establishment Needs To \\u201cPut a bullet\\u201d In Trump\\u2019s Head\",\n          \"'There are many instances\\u2019 of voter fraud: GOP VP candidate Pence\",\n          \"On Campus, Trump Fans Say They Need \\u2018Safe Spaces\\u2019 - The New York Times\"\n        ],\n        \"semantic_type\": \"\",\n        \"description\": \"\"\n      }\n    },\n    {\n      \"column\": \"text\",\n      \"properties\": {\n        \"dtype\": \"string\",\n        \"num_unique_values\": 18097,\n        \"samples\": [\n          \"LONDON (Reuters) - Britain is not yet able to say if new legislation will be needed to implement a Brexit transition deal, Prime Minister Theresa May s spokeswoman said on Thursday, hours after a junior Brexit minister said the position was that it would be necessary.   We are looking to negotiate and agree an implementation period, we will do whatever is required to implement that, but it s a bit early to say exactly what that would be because it will be determined by exactly how we negotiate,  the spokeswoman said. \",\n          \"During the 1986 race for governor of Vermont, Bernie Sanders bristled at the popularity of the Democratic incumbent, Madeleine Kunin. Mr. Sanders, who was running against her as an independent, saw himself as a leader, and viewed Ms. Kunin as a lightweight. \\u201cShe does very well on television,\\u201d he told one interviewer. \\u201cShe has an excellent press secretary. \\u201d But really, he said another time, the governor\\u2019s appeal came down to one trait. \\u201cMany people are excited because she\\u2019s the first woman governor,\\u201d he said. \\u201cBut after that, there ain\\u2019t much. \\u201d Mr. Sanders has long presented himself as an     politician from rural New England, now seeking the presidency with promise of a political revolution. But his combative side has now emerged as the Democratic race has tightened and Hillary Clinton has sharpened her own rhetoric. The result is a far harsher tone in the Democratic campaign and a transformed Senator Sanders, who is now making the kinds of   attacks that some of his advisers regretted he did not deploy sooner. But his aggressiveness also worries some supporters who were powerfully drawn to his positive persona that forswore politics as usual. The senator\\u2019s assertiveness was on vivid display in Thursday\\u2019s debate with Mrs. Clinton ahead of the   New York primary on Tuesday, which Mr. Sanders must win big to dent Mrs. Clinton\\u2019s strong lead in the delegates needed for the nomination. But he is also seeking to match the vigorous jabs from her aides and allies, who ignored Mr. Sanders for much of last year and are now assailing his policy ideas and leadership abilities on a   basis. His advisers say he is reacting to the New York political environment as well. \\u201cPolitical combat is more restrained in places like Iowa and New Hampshire, but it\\u2019s completely different in New York, and Bernie has no problem defending his ideas in a tough way against Secretary Clinton\\u2019s,\\u201d said Tad Devine, a senior adviser for the Sanders campaign. Mrs. Clinton is now trying to hold off Mr. Sanders while not alienating his supporters, whom she would need in the general election. But she is also refusing to back down, and their spiky clashes are suddenly making for a more explosive and unpredictable race. More than anything, the recent Sanders broadsides reflect a political strategy he has carried out in previous campaigns: the use of blunt criticisms, sarcastic asides and a thundering style against his opponents. In the 1986 race, Mr. Sanders argued that he would be a strong feminist and do more for women than Ms. Kunin had. While granting that Ms. Kunin was \\u201cnot corrupt,\\u201d he questioned if she had the same \\u201ccourage\\u201d that he had. He repeatedly challenged her credentials as a fellow progressive, using some of the same language he aims at Mrs. Clinton. In the end, he damaged Ms. Kunin politically, as some Clinton supporters and political analysts think he may do in the current race. \\u201cIn a tough fight, Bernie is hardly the     guy that he claims to be,\\u201d said Garrison Nelson, a longtime political science professor at the University of Vermont. Ms. Kunin was not the only foe that Mr. Sanders attacked with insinuations, as opposed to the more overtly negative television ads that Mr. Sanders has forsworn. In his 1990 race for Congress, he frequently laid political bait for his Republican opponent and relished watching him stumble. And in his 2006 Senate campaign, Mr. Sanders relentlessly linked his moderate Republican opponent with George W. Bush and Dick Cheney, and accused him of running \\u201cthe most negative, dishonest campaign in the history of the state of Vermont. \\u201d While such tactics are not unusual in many campaigns, Mr. Sanders has long tried to claim the high road. Yet if his past opponents remember anything about him, it\\u2019s Bernie the brawler. \\u201cThe way he kept tagging me as a typical rich guy who only cared about rich Republicans  \\u2014   it was very tough, and very effective,\\u201d said Richard Tarrant, a software executive who was the Republican Senate nominee in 2006 and ran many aggressive television ads. \\u201cBernie knew that I earned my money myself, that my wealth was  . But that didn\\u2019t matter. \\u201d In the current race, after days of needling by the Clinton camp about his policies and ability to answer tough questions, Mr. Sanders hit back this month by saying Mrs. Clinton was \\u201cnot qualified\\u201d for the presidency because she had taken money from wealthy donors and supported the war in Iraq and some   agreements. Some Sanders supporters expressed dismay that their candidate was resorting to such sharp exchanges  \\u2014   a Guardian columnist wrote on Tuesday that she felt \\u201cbetrayed\\u201d  \\u2014   while the leading Republican candidate, Donald J. Trump, picked up the line of attack. \\u201cBernie Sanders says that Hillary Clinton is unqualified to be president,\\u201d Mr. Trump wrote on Twitter. \\u201cBased on her decision making ability, I can go along with that!\\u201d Mr. Sanders has started running commercials in New York criticizing Mrs. Clinton for accepting   speaking fees from Wall Street banks but not supporting a federal $15 minimum wage. And in Thursday\\u2019s debate, he suggested that Mrs. Clinton\\u2019s speaking fees had influenced her to be soft on Wall Street regulation. She quickly dismissed that, saying that she had called out bankers over business practices  \\u2014   drawing a sarcastic response from Mr. Sanders. \\u201cSecretary Clinton called them out  \\u2014   oh my goodness, they must have been really crushed by this,\\u201d he said. \\u201cAnd was that before or after you received huge sums of money by giving speaking engagements? So they must have been very, very upset by what you did. \\u201d While Mr. Sanders has not run   and highly personal ads against Mrs. Clinton  \\u2014   the sort that traditionally characterize a negative campaign  \\u2014   Mrs. Clinton\\u2019s advisers accused Mr. Sanders of breaking his word. \\u201cAt times he does it deftly, but make no mistake, every day Senator Sanders is launching another attack, and that\\u2019s not how he said he would run his campaign,\\u201d said Joel Benenson, Mr. Clinton\\u2019s campaign strategist. Mr. Devine, a longtime strategist for Mr. Sanders, said his candidate\\u2019s quips and tone were a far cry from the   vitriol in the Republican race. He insisted that Mr. Sanders was seeking to reveal substantive differences with Mrs. Clinton, and denied that his candidate fears the Democratic nomination is slipping away. \\u201cI think the race is just increasingly engaged,\\u201d Mr. Devine said. In Vermont, however, Mr. Sanders was known for belittling opponents at times, rather than merely challenging their ideas. During one debate in the 1986 governor\\u2019s race, Mr. Sanders was asked if he viewed Governor Kunin as \\u201cthe lesser of two evils,\\u201d given his descriptions of the Democratic and Republican parties as \\u201cTweedledum\\u201d and \\u201cTweedledee,\\u201d and if he thought he might contribute to her political \\u201cdemise. \\u201d Mr. Sanders chuckled and then looked at Ms. Kunin, seated a few feet away. \\u201cGovernor, how does it feel to be the lesser of two evils?\\u201d he asked. \\u201cI think that really is what this campaign is about. \\u201d Ms. Kunin was  . Toward the end of that campaign, Ms. Kunin said, Mr. Sanders argued at a rally in Burlington, Vt. that he would do far more for women than Ms. Kunin. \\u201cBernie thought I was an empty suit, and insisted that he was the better feminist because he would solve income inequality and that would help women,\\u201d Ms. Kunin said in the interview. \\u201cHe could be sarcastic, but also very subtle. \\u201d A supporter of Mrs. Clinton\\u2019s presidential bid, Ms. Kunin said she saw similarities between his treatment of the two women. \\u201cHe\\u2019s not going to say, \\u2018She\\u2019s a woman, she\\u2019s not qualified,\\u2019\\u201d said Ms. Kunin, who was   with 47 percent of the vote after Mr. Sanders siphoned off some support. \\u201cBut he can paint a very subtle illusion talking about qualifications and judgment. \\u201d Mr. Devine, the adviser to Mr. Sanders, said the senator would never make   attacks, in the 1980s or today. \\u201cHis focus is on issues,\\u201d he said. Peter Smith, the Republican candidate for governor in 1986 and the congressman Mr. Sanders ousted in 1990, said that Mr. Sanders used passion to create \\u201ca contrast between him and his opponent that may not, in fact, exist. \\u201d Mr. Sanders\\u2019s aides in the 1990 campaign said they would regularly taunt Mr. Smith about his positions on issues like the minimum wage, which the congressman would dispute, and then Mr. Sanders would come forward and accuse Mr. Smith of dishonesty. As a result, a running theme of that campaign was that Mr. Sanders had integrity and Mr. Smith lacked it. \\u201cThe tool he uses is his intensity and his belief that, on the major issues he cares about, there is only one right answer,\\u201d Mr. Smith said. \\u201cAnd it is his. \\u201d\",\n          \"WASHINGTON (Reuters) - Two key U.S. senators on Monday asked Equifax Inc (EFX.N) to answer detailed questions about a breach of information affecting up to 143 million Americans, including whether U.S. government agency records were compromised in the hack. Senator Orrin Hatch, who chairs the Finance Committee, and ranking Democrat Ron Wyden, also demanded that Equifax Chief Executive Rick Smith provide a timeline of the breach and its discovery. They asked for information on when authorities and the company\\u2019s board were notified and when three executives who sold stock in the company in August were first told of the data breach.  Equifax did not immediately respond to a request for comment on the letter. It came amid mounting scrutiny of the company\\u2019s response to the breach from lawmakers, regulators and security experts, prompting the credit-monitoring services to issue an apology on Friday and pledge to dedicate more resources to helping affected consumers. \\u201cThe scope and scale of this breach appears to make it one of the largest on record, and the sensitivity of the information compromised may make it the most costly to taxpayers and consumers,\\u201d the letter said. Equifax announced last week that it learned on July 29 that hackers had infiltrated its systems in mid-May, pilfering names, birthdays, addresses and Social Security and driver\\u2019s license numbers. Cyber security experts said it was among the largest data hacks ever recorded and was particularly troubling due to the richness of the information exposed. Three days after Equifax discovered the breach, three top Equifax executives, including Chief Financial Officer John Gamble and a president of a unit, sold Equifax shares or exercised options to dispose of stock worth about $1.8 million, regulatory filings show. Equifax said in a statement last week that the executives were not aware that an intrusion had occurred when they sold their shares. Hatch and Wyden asked Smith to respond by Sept. 28. Other congressional committees have announced plans to hold hearings investigating the Equifax breach and want answers. The senators want to know if Equifax has a chief information security officer and over the past two years \\u201chow many times has Equifax employed third-party cyber security experts to conduct penetration tests of its internal and external systems?\\u201d The senators want copies of all Equifax penetration test and audit reports by outside cyber security firms. Separately, a group of 20 Democratic senators asked Equifax to end its use of forced arbitration agreements, which limit the ability of consumers to pursue claims, and not to lobby to reverse a new rule from the Consumer Financial Protection Bureau to limit the use of forced arbitration in the financial services sector. \"\n        ],\n        \"semantic_type\": \"\",\n        \"description\": \"\"\n      }\n    },\n    {\n      \"column\": \"label\",\n      \"properties\": {\n        \"dtype\": \"category\",\n        \"num_unique_values\": 5,\n        \"samples\": [\n          \"0\",\n          \" \\u0437\\u0430 \\u0443\\u0447\\u0430\\u0441\\u0442\\u0438\\u0435. \\u0411\\u043b\\u0430\\u0433\\u043e\\u0434\\u0430\\u0440\\u044e \\u0432\\u0430\\u0441.\",\n          \"\"\n        ],\n        \"semantic_type\": \"\",\n        \"description\": \"\"\n      }\n    },\n    {\n      \"column\": \"content\",\n      \"properties\": {\n        \"dtype\": \"string\",\n        \"num_unique_values\": 18381,\n        \"samples\": [\n          \"WASHINGTON (Reuters) - The U.S. Senate on Wednesday rejected a resolution to revoke an Obama-era rule to limit methane emissions from oil and gas production on federal lands, dealing a blow to President Donald Trump\\u2019s efforts to free the drilling industry from what he sees as excessive environmental regulation. The Congressional Review Act resolution received just 49 votes after Republican leaders scrambled for weeks to secure the 51 needed to pass it. The resolution would have revoked the rule and prevented similar regulations from being introduced. Getting the Trump administration to repeal the BLM rule had been a top priority of the oil and gas industry. Companies said it was unnecessary, would could cost them tens of thousands of dollars per well and hinder production. But not all Republicans supported the measure, in part because it would have made regulating methane waste more difficult in the future.  Republican Senator John McCain of Arizona made a surprise vote against the resolution, joining fellow Republicans Lindsey Graham of South Carolina and Susan Collins of Maine in opposition to torpedo it. \\u201cWhile I am concerned that the BLM rule may be onerous, passage of the resolution would have prevented the federal government, under any administration, from issuing a rule that is \\u2018similar\\u2019,\\u201d McCain said in a statement. He said the Interior Department should issue a new rule on to replace the existing one on methane leaks, which he called a public health and air quality issue. The rule, finalized by President Barack Obama in his last weeks in office, updated 30-year-old regulations that govern flaring, venting and natural gas leaks from oil and gas production. Obama\\u2019s administration said it would preserve up to 41 billion cubic feet (BCF) of natural gas per year that is currently lost to leaks and flaring. The American Petroleum Institute and other industry groups have said the methane rule is unnecessary because companies have made strides in reducing leaks on their own.  \\u201cThe rule could impede U.S. energy production while reducing local and federal revenues,\\u201d said Erik Milito, API\\u2019s Upstream and Industry Operations Group Director. Members of the Western Energy Alliance, which include Devon Energy , Whiting Petroleum and EOG Resources  had also been strongly opposed to the rule. Environmental groups hailed what they depicted as a rare victory for the environment after several regulatory rollbacks by the Trump administration. \\u201cIn recent months, thousands of Americans asked the Senate to stand up for clean air and against the oil lobby, and their efforts were successful today,\\u201d said Jamie Williams, president of the Wilderness Society. The Western Values Project estimated that if the rule had been rescinded, the U.S. Treasury would have lost out on $800 million in lost potential royalties from leaked or vented natural gas over the next decade. Republican Senator John Barrasso of Wyoming, chairman of the Senate Committee on Environment and Public Works who supported the resolution to kill the rule, called on Interior Secretary Ryan Zinke to act unilaterally to revoke it.  Bid to revoke Obama methane rule fails in surprise U.S. Senate vote\",\n          \"In its first new episode under the presidency of Donald J. Trump, \\u201cSaturday Night Live\\u201d opened with its vision of the most powerful man in the world  \\u2014   President Vladimir V. Putin of Russia, smirking and chiding Mr. Trump for early missteps  \\u2014   followed by a monologue from the show\\u2019s host, Aziz Ansari, who commented on issues of race in   America and implored Mr. Trump to directly address them himself. Airing one day after Mr. Trump\\u2019s inauguration, \\u201cS. N. L. ,\\u201d which the president hosted as a candidate and has regularly attacked on Twitter, did not feature an appearance from its resident Trump impersonator, Alec Baldwin. Instead the show opened with the cast member Beck Bennett playing a   Mr. Putin and boasting of helping to get Mr. Trump elected. \\u201cToday many of you are scared and marching in the streets,\\u201d the Putin character said. \\u201cYou are worried that your country is in the hands of this unpredictable man. But don\\u2019t worry. It\\u2019s not. Relax. I got this. Putey\\u2019s going to make everything O. K. \\u201d He added that Russia would take care of America because \\u201cit\\u2019s the most expensive thing we\\u2019ve ever bought. \\u201d Addressing Mr. Trump directly, he said, \\u201cYou\\u2019re not off to a great start, man. I thought you\\u2019d be better at this. However, I\\u2019m glad to see so many people showed up to your inauguration. \\u201d The screen then showed video of a crowd of demonstrators on Saturday at the Women\\u2019s March on Washington, which was then corrected to an image of the more sparsely populated National Mall on Friday during the Trump inaugural festivities. \\u201cToday,\\u201d the Putin character said, \\u201cyou went to the C. I. A. and said one million people came to see you in Washington D. C.? If you\\u2019re going to lie, don\\u2019t make it so obvious. Say you are friends with LeBron James, not that you are LeBron James. \\u201d Mr. Ansari, the Emmy     and star of the Netflix series \\u201cMaster of None,\\u201d and the first performer of South Asian descent to host \\u201cS. N. L. ,\\u201d picked up on some of these themes in his monologue. \\u201cYesterday, Trump was inaugurated,\\u201d Mr. Ansari said. \\u201cToday, an entire gender protested against him. \\u201d Urging Americans to treat each other with respect, Mr. Ansari said that Mr. Trump\\u2019s victory had nonetheless empowered a \\u201ctiny slice of people that have gotten way too fired up. \\u201d \\u201cI\\u2019m talking about these people that, as soon as Trump won, they\\u2019re like, \\u2018We don\\u2019t have to pretend like we\\u2019re not racist anymore!\\u2019 \\u201d he said. (In doing so, he gave a fist pump that gradually became a Nazi salute.) \\u201cNo, no,\\u201d Mr. Ansari added. \\u201cIf you\\u2019re one of these people, please go back to pretending. \\u201d Mr. Ansari reflected on the ascent of what he called \\u201cthis new   K. K. K. movement that started  \\u2014   this kind of casual white supremacy,\\u201d which includes people who tell him to go back to where he came from, but don\\u2019t know his heritage. (\\u201cThey\\u2019re not usually geography buffs,\\u201d he said.) \\u201cMy parents moved from India to South Carolina in the early \\u201980s,\\u201d Mr. Ansari said. \\u201cThey didn\\u2019t move until nine years ago. You know where they moved? North Carolina. They love it here. They\\u2019re not leaving. \\u201d He continued: \\u201cI think Trump should make a speech. A real speech denouncing the   K. K. K. Don\\u2019t tweet about me being lame or the show. Write a speech. A real speech. \\u201d Mr. Ansari pointed out that President George W. Bush made a speech after the Sept. 11 attacks in which he said its perpetrators did not represent Islam. \\u201cEveryone applauded  \\u2014   Democrats, Republicans, didn\\u2019t matter,\\u201d Mr. Ansari said. \\u201cIt was not about politics. It was about basic human decency and remembering why the country was founded in the first place. \\u201d He continued: \\u201cI was like, what the hell has happened? I\\u2019m sitting here wistfully watching old George W. Bush speeches?\\u201d In closing, Mr. Ansari acknowledged that many viewers were likely to be fearful of what the next four years held in store. \\u201cIf you\\u2019re excited about Trump, great,\\u201d he said. \\u201cHe\\u2019s president. Let\\u2019s hope he does a great job. If you\\u2019re scared about Trump and you\\u2019re very worried, you\\u2019re going to be O. K. too. \\u201cBecause if you look at our country\\u2019s history,\\u201d he continued, \\u201cchange doesn\\u2019t come from presidents. Change comes from large groups of angry people. And if Day 1 is any indication, you are part of the largest group of angry people I have ever seen. \\u201d Other segments in the show included a musical   of Kellyanne Conway, Mr. Trump\\u2019s adviser, where Kate McKinnon played her as Roxie Hart from \\u201cChicago,\\u201d and a   to President Obama in which Cecily Strong and Sasheer Zamata serenaded his picture with the title song from \\u201cTo Sir, With Love. \\u201d Mr. Trump most recently denounced his satirical portrayal on \\u201cSaturday Night Live\\u201d last week, writing in a tweet: \\u201cNBC News is bad but Saturday Night Live is the worst of NBC. Not funny, cast is terrible, always a complete hit job. Really bad television!\\u201d Whether he will comment on the show now that he is in the White House remains to be seen as of early Sunday, he had not done so. On Friday, Katie Rich, a writer for \\u201cSaturday Night Live,\\u201d was widely criticized for a tweet she posted in which she wrote that Mr. Trump\\u2019s    son, Barron, would be \\u201cthis country\\u2019s first homeschool shooter. \\u201d Ms. Rich subsequently deleted the tweet and took down her personal Twitter account. Trump on \\u2018Saturday Night Live\\u2019? Nope. It\\u2019s Putin and Ansari. - The New York Times\",\n          \"WASHINGTON (Reuters) - U.S. Attorney General Jeff Sessions directed the agency on Tuesday to hire an asset forfeiture oversight chief, just months after he reinstated a program shut down by the Obama administration that lets police seize cash from crime suspects. In a memo to Deputy Attorney General Rod Rosenstein, Sessions instructed him to create a position for a director of asset forfeiture accountability who will be responsible for ensuring compliance with the program\\u2019s rules. \\u201cThe American people and Congress must know this program is being administered professionally, lawfully and in a manner consistent with sound public policy,\\u201d Sessions wrote.  In July, the Justice Department revived a civil asset forfeiture policy that allows local, state and federal police to seize cash and other assets from people if they have probable cause to believe a crime was committed. Under the policy, the government can seize assets from people even if they are never convicted of any crime. In an arrangement with the Justice Department, law enforcement agencies can keep some of the assets they seize.  The Obama administration had rolled back the policy in 2015, amid widespread criticism that it was creating incentives for police forces to seize funds and trampling people\\u2019s rights. The new policy has also stirred criticism, including from many of Sessions\\u2019 fellow Republicans.  In addition to concerns about due process, many lawmakers have expressed alarm that the department\\u2019s policy lets local police departments seize assets from suspects even in states where such forfeiture practices are banned by state law. A  number of Republicans in the House of Representatives sought recently to block funding for the civil asset forfeiture program by tucking amendments into a broader spending package.  Sessions is scheduled to appear on Wednesday for a Justice Department oversight hearing before the Senate Judiciary Committee. The committee\\u2019s chairman, Senator Charles Grassley, has been highly critical of civil asset forfeiture.  After Sessions reinstated the policy, Grassley issued a statement saying he had concerns and urged the Justice Department to ensure there was adequate oversight of the program. Last month, Grassley\\u2019s office issued a memo to Sessions that accused the U.S. Marshals Service of wasting money from the Justice Department\\u2019s asset forfeiture fund.  Justice Department to create post overseeing asset forfeiture program\"\n        ],\n        \"semantic_type\": \"\",\n        \"description\": \"\"\n      }\n    }\n  ]\n}"
            }
          },
          "metadata": {},
          "execution_count": 17
        }
      ]
    },
    {
      "cell_type": "code",
      "source": [
        "# separating feature and target\n",
        "X = news_data.drop(columns='label', axis =1)\n",
        "Y = news_data['label']"
      ],
      "metadata": {
        "id": "0tpCQEunmQO1"
      },
      "execution_count": 18,
      "outputs": []
    },
    {
      "cell_type": "code",
      "source": [
        "print(X)"
      ],
      "metadata": {
        "id": "Row9aZiCmYao",
        "outputId": "d40aa3d8-6cc3-4d8c-b661-1f95e398ff9c",
        "colab": {
          "base_uri": "https://localhost:8080/"
        }
      },
      "execution_count": 19,
      "outputs": [
        {
          "output_type": "stream",
          "name": "stdout",
          "text": [
            "      Unnamed: 0                                              title  \\\n",
            "0              0  LAW ENFORCEMENT ON HIGH ALERT Following Threat...   \n",
            "1              1                                                      \n",
            "2              2  UNBELIEVABLE! OBAMA’S ATTORNEY GENERAL SAYS MO...   \n",
            "3              3  Bobby Jindal, raised Hindu, uses story of Chri...   \n",
            "4              4  SATAN 2: Russia unvelis an image of its terrif...   \n",
            "...          ...                                                ...   \n",
            "18974      18954  Americans Are So Disconnected from Reality Tha...   \n",
            "18975      18955  Michigan governor asks Obama for federal aid i...   \n",
            "18976      18956  House will not reach healthcare deal before tw...   \n",
            "18977      18957  Erdogan says Turkey must clear Syria's Afrin o...   \n",
            "18978      18958   WATCH: 20 Years Ago, David Bowie Saw America’...   \n",
            "\n",
            "                                                    text  \\\n",
            "0      No comment is expected from Barack Obama Membe...   \n",
            "1         Did they post their votes for Hillary already?   \n",
            "2       Now, most of the demonstrators gathered last ...   \n",
            "3      A dozen politically active pastors came here f...   \n",
            "4      The RS-28 Sarmat missile, dubbed Satan 2, will...   \n",
            "...                                                  ...   \n",
            "18974    Recipient Email => \\nWhile the idiot pressti...   \n",
            "18975  DETROIT (Reuters) - Michigan Governor Rick Sny...   \n",
            "18976  WASHINGTON (Reuters) - Deep divisions cut shor...   \n",
            "18977  ANKARA (Reuters) - President Tayyip Erdogan sa...   \n",
            "18978  Almost 20 years ago, David Bowie released a mu...   \n",
            "\n",
            "                                                 content  \n",
            "0      No comment is expected from Barack Obama Membe...  \n",
            "1        Did they post their votes for Hillary already?   \n",
            "2       Now, most of the demonstrators gathered last ...  \n",
            "3      A dozen politically active pastors came here f...  \n",
            "4      The RS-28 Sarmat missile, dubbed Satan 2, will...  \n",
            "...                                                  ...  \n",
            "18974    Recipient Email => \\nWhile the idiot pressti...  \n",
            "18975  DETROIT (Reuters) - Michigan Governor Rick Sny...  \n",
            "18976  WASHINGTON (Reuters) - Deep divisions cut shor...  \n",
            "18977  ANKARA (Reuters) - President Tayyip Erdogan sa...  \n",
            "18978  Almost 20 years ago, David Bowie released a mu...  \n",
            "\n",
            "[18979 rows x 4 columns]\n"
          ]
        }
      ]
    },
    {
      "cell_type": "code",
      "source": [
        "print(Y)"
      ],
      "metadata": {
        "id": "6rp6TZfJmYXE",
        "outputId": "3ca4b982-5c8f-4df4-d268-b02db458dfc8",
        "colab": {
          "base_uri": "https://localhost:8080/"
        }
      },
      "execution_count": 20,
      "outputs": [
        {
          "output_type": "stream",
          "name": "stdout",
          "text": [
            "0        1\n",
            "1        1\n",
            "2        1\n",
            "3        0\n",
            "4        1\n",
            "        ..\n",
            "18974    1\n",
            "18975    0\n",
            "18976    0\n",
            "18977    0\n",
            "18978    1\n",
            "Name: label, Length: 18979, dtype: object\n"
          ]
        }
      ]
    },
    {
      "cell_type": "markdown",
      "source": [
        "Stemming:\n",
        "\n",
        "Stemming is the process of reducing a word to its Root Word"
      ],
      "metadata": {
        "id": "JYND_p_2mdkf"
      }
    },
    {
      "cell_type": "code",
      "source": [
        "port_stem = PorterStemmer()"
      ],
      "metadata": {
        "id": "rbMyj1Q9mYU5"
      },
      "execution_count": 21,
      "outputs": []
    },
    {
      "cell_type": "code",
      "source": [
        "def stemming(content):\n",
        "  stemmed_content = re.sub('[^a-zA-Z]',' ',content)\n",
        "  stemmed_content = stemmed_content.lower()\n",
        "  stemmed_content = stemmed_content.split()\n",
        "  stemmed_content = [port_stem.stem(word) for word in stemmed_content if not word in stopwords.words('english')]\n",
        "  stemmed_content = ' '.join(stemmed_content)\n",
        "  return stemmed_content"
      ],
      "metadata": {
        "id": "rei2qflpmYSl"
      },
      "execution_count": 22,
      "outputs": []
    },
    {
      "cell_type": "code",
      "source": [
        "news_data['content'] = news_data['content'].apply(stemming)"
      ],
      "metadata": {
        "id": "3ebp-SflmYQL"
      },
      "execution_count": 23,
      "outputs": []
    },
    {
      "cell_type": "code",
      "source": [
        "print(news_data['content'])"
      ],
      "metadata": {
        "id": "MeQqVId6momY",
        "outputId": "30ebf0ad-5a3b-4694-9e98-81f458193fde",
        "colab": {
          "base_uri": "https://localhost:8080/"
        }
      },
      "execution_count": 24,
      "outputs": [
        {
          "output_type": "stream",
          "name": "stdout",
          "text": [
            "0        comment expect barack obama member fyf fukyofl...\n",
            "1                                post vote hillari alreadi\n",
            "2        demonstr gather last night exercis constitut p...\n",
            "3        dozen polit activ pastor came privat dinner fr...\n",
            "4        rs sarmat missil dub satan replac ss fli mile ...\n",
            "                               ...                        \n",
            "18974    recipi email idiot presstitut brainwash victim...\n",
            "18975    detroit reuter michigan governor rick snyder a...\n",
            "18976    washington reuter deep divis cut short republi...\n",
            "18977    ankara reuter presid tayyip erdogan said frida...\n",
            "18978    almost year ago david bowi releas music video ...\n",
            "Name: content, Length: 18979, dtype: object\n"
          ]
        }
      ]
    },
    {
      "cell_type": "code",
      "source": [
        "X = news_data['content'].values\n",
        "Y = news_data['label'].values"
      ],
      "metadata": {
        "id": "FXPZOa8imoiy"
      },
      "execution_count": 25,
      "outputs": []
    },
    {
      "cell_type": "code",
      "source": [
        "print(X)"
      ],
      "metadata": {
        "id": "1LaLIiwmmogv",
        "outputId": "a5c6038a-ae52-462f-d7b0-f645779c1a8f",
        "colab": {
          "base_uri": "https://localhost:8080/"
        }
      },
      "execution_count": 26,
      "outputs": [
        {
          "output_type": "stream",
          "name": "stdout",
          "text": [
            "['comment expect barack obama member fyf fukyoflag blacklivesmatt movement call lynch hang white peopl cop encourag other radio show tuesday night turn tide kill white peopl cop send messag kill black peopl america one f yoflag organ call sunshin radio blog show host texa call sunshin f ing opinion radio show snapshot fyf lolatwhitefear twitter page p show urg support call fyf tonight continu dismantl illus white snapshot twitter radio call invit fyf radio show air p eastern standard time show caller clearli call lynch kill white peopl minut clip radio show heard provid breitbart texa someon would like refer hannib alreadi receiv death threat result interrupt fyf confer call unidentifi black man said mother f ker start f ing like us bunch ni er takin one us roll said caus alreadi roll gang anyway six seven black mother f cker see white person lynch ass let turn tabl conspir cop start lose peopl state emerg specul one two thing would happen big ass r war ni er go start backin alreadi get kill f k got lose sunshin could heard say yep true f king true said need turn tabl kid get shot somebodi need becom sacrific side said everybodi whatev like say everybodi differ posit war continu give f k anyway said might well util turn tabl n er said way start lookin like havin mani casualti causal side instead kill black peopl black live matter mother f ker got make matter find mother f ker alon snap ass f hang damn tree take pictur send mother f ker need one exampl peopl start watchin turn tabl said said start trickl effect said one white person hung flat hang start trickl effect continu black peopl good start trend said get upper hand anoth black man spoke say need kill cop kill us first black male said best method right breitbart texa previous report sunshin upset racist white peopl infiltr disrupt one confer call subsequ releas phone number one infiltr veteran immedi start receiv threaten call one f yoflag movement support allegedli told veteran infiltr publicli post confer call go rape gut pregnant wife f ing piec sh unborn creatur hung tree breitbart texa previous encount sunshin sandra bland protest waller counti jail texa said white peopl kill told journalist photograph see nappi ass hair head mean one milit negro said protest redneck mother f ker murder sandra bland nappi hair like fyf black radic say hold imperi power actual respons terrorist attack septemb th account day report breitbart texa sever websit twitter handl movement palmetto star describ one head organ said youtub video support burn symbol illus superior fals white supremaci like american flag british flag polic uniform ku klux klan hood sierra mcgrone nocturnu libertu post help young afrikan clean rag oppress post two photo one appear photo black man wipe nake butt american flag entir stori breitbart news law enforc high alert follow threat cop white blacklivesmatt fyf terrorist video'\n",
            " 'post vote hillari alreadi'\n",
            " 'demonstr gather last night exercis constitut protect right peac protest order rais issu creat chang loretta lynch aka eric holder skirt unbeliev obama attorney gener say charlott rioter peac protest home state north carolina video'\n",
            " ...\n",
            " 'washington reuter deep divis cut short republican hope quick reviv obamacar replac legisl wednesday congress prepar leav town two week recess without deal end parti infight go go home tomorrow without deal congressman chri collin republican moder u hous repres told report white hous alli collin said day negoti broken conserv demand allow state waiv popular obamacar polici protect sick peopl price discrimin allow young adult stay parent healthcar plan age said hard line conserv hous freedom caucu move goal post negoti risk potenti support moder republican side debat warn republican push healthcar reform one presid donald trump top campaign promis could lose momentum lawmak left week without deal bridg fissur led legisl failur march hous speaker paul ryan cancel vote earlier wednesday heritag action chief execut mike needham told report conserv group look way target hous moder known tuesday group attack ad district tactic ryan told forum discuss product emphas republican leader set deadlin agreement keep work week ryan said got time figur republican rail presid barack obama afford care act sinc enact tuesday republican lawmak express hope trump white hous would unveil healthcar bill conserv said vote hous possibl week legisl yet emerg despit talk republican lawmak led vice presid mike penc hous republican leadership aid said wednesday plan remain track divid chamber begin two week recess mid afternoon thursday repres mark meadow chairman hard right hous freedom caucu late tuesday said concern part make real progress go home send wrong messag meadow told report wednesday yet heard white hous time next negoti session still negoti allow lawmak return home district tell voter tri deliv campaign promis help win elect interview axio nbc televis hous major leader kevin mccarthi said republican produc healthcar bill provid timet late tuesday follow close door meet hous republican penc told report good talk good progress toward bill elabor republican lawmak said effort focus maintain obamacar essenti health benefit mental health coverag matern care state could appli waiver could improv coverag reduc cost major portion obamacar repeal discuss creat backstop premium spike peopl chronic ill high risk insur pool hous reach healthcar deal two week break'\n",
            " 'ankara reuter presid tayyip erdogan said friday turkey need clear afrin region northwest syria kurdish ypg militia fighter forefront battl islam state insurg erdogan speak ankara offici rule ak parti also express disappoint unit state back ypg ankara view ypg extens outlaw kurdistan worker parti pkk fought decad long insurg turkey design terrorist group turkey unit state european union need cleans afrin structur call ypg terrorist organ erdogan said turkey long anger unit state support ypg erdogan repeatedli accus washington violat allianc two countri greatli disappoint unit state keep promis mani issu could resolv easili push dead end said turkey express displeasur u stanc toward deal ypg islam state hundr milit withdrew syrian citi raqqa fell syrian democrat forc erdogan previous said afrin would ankara agenda current oper syria idlib provinc turkey russia set observ point de escal deal agre ankara moscow tehran eas bloodsh six year old syrian conflict erdogan said consider progress made turkey militari oper idlib due co oper three power russia iran back syrian presid bashar al assad turkey support rebel oppos share common foe islam state erdogan say turkey must clear syria afrin ypg militia'\n",
            " 'almost year ago david bowi releas music video conjunct trent reznor nine inch nail disturbingli prophet song afraid american heavili critic acceler dumb american cultur video took slightli differ tack heavili critic america increasingli control obsess gun togeth gave us pain accur glimps america two decad later loudli belliger proudli ignor danger violent video releas back well america declar war middl east slaughter hundr thousand civilian name reveng racism religion bowi sing lyric god american comment religion much comment america theocrat tendenc mean rest world afraid american might well nation anthem countri sizabl muslim popul oil allah help countri predict stop simpl lyric like johnni want brain johnni want suck coke bowi accident sum entir career sarah palin video prescient show sever scene american pantomim gun violenc turn david bowi charact video delusion one gun accur reflect world saw unit state back even noth averag one mass shoot day horror await us afraid american sunday januari david bowi die liver cancer month fight music legaci stretch decad anyon age integr part childhood dream nightmar long live jareth goblin king featur imag via screencap watch year ago david bowi saw america dark futur']\n"
          ]
        }
      ]
    },
    {
      "cell_type": "code",
      "source": [
        "print(Y)"
      ],
      "metadata": {
        "id": "SJ_y3Efxmoem",
        "outputId": "85781bf7-4d3f-4146-9873-fb9165cf5f3a",
        "colab": {
          "base_uri": "https://localhost:8080/"
        }
      },
      "execution_count": 27,
      "outputs": [
        {
          "output_type": "stream",
          "name": "stdout",
          "text": [
            "['1' '1' '1' ... '0' '0' '1']\n"
          ]
        }
      ]
    },
    {
      "cell_type": "code",
      "source": [
        "Y.shape"
      ],
      "metadata": {
        "id": "ALUOFQgpm1CY",
        "outputId": "68ea2340-4cbe-4737-8664-5daf3c1a9dc4",
        "colab": {
          "base_uri": "https://localhost:8080/"
        }
      },
      "execution_count": 28,
      "outputs": [
        {
          "output_type": "execute_result",
          "data": {
            "text/plain": [
              "(18979,)"
            ]
          },
          "metadata": {},
          "execution_count": 28
        }
      ]
    },
    {
      "cell_type": "code",
      "source": [
        "# converting the textual data to feature vectors\n",
        "vectorizer = TfidfVectorizer()\n",
        "vectorizer.fit(X)\n",
        "\n",
        "X = vectorizer.transform(X)"
      ],
      "metadata": {
        "id": "PLnyV0U-m0_g",
        "outputId": "ffef6a7a-9bd7-4c85-c8df-5beca0e27d93",
        "colab": {
          "base_uri": "https://localhost:8080/",
          "height": 211
        }
      },
      "execution_count": 2,
      "outputs": [
        {
          "output_type": "error",
          "ename": "NameError",
          "evalue": "name 'TfidfVectorizer' is not defined",
          "traceback": [
            "\u001b[0;31m---------------------------------------------------------------------------\u001b[0m",
            "\u001b[0;31mNameError\u001b[0m                                 Traceback (most recent call last)",
            "\u001b[0;32m<ipython-input-2-4269229383>\u001b[0m in \u001b[0;36m<cell line: 0>\u001b[0;34m()\u001b[0m\n\u001b[1;32m      1\u001b[0m \u001b[0;31m# converting the textual data to feature vectors\u001b[0m\u001b[0;34m\u001b[0m\u001b[0;34m\u001b[0m\u001b[0m\n\u001b[0;32m----> 2\u001b[0;31m \u001b[0mvectorizer\u001b[0m \u001b[0;34m=\u001b[0m \u001b[0mTfidfVectorizer\u001b[0m\u001b[0;34m(\u001b[0m\u001b[0;34m)\u001b[0m\u001b[0;34m\u001b[0m\u001b[0;34m\u001b[0m\u001b[0m\n\u001b[0m\u001b[1;32m      3\u001b[0m \u001b[0mvectorizer\u001b[0m\u001b[0;34m.\u001b[0m\u001b[0mfit\u001b[0m\u001b[0;34m(\u001b[0m\u001b[0mX\u001b[0m\u001b[0;34m)\u001b[0m\u001b[0;34m\u001b[0m\u001b[0;34m\u001b[0m\u001b[0m\n\u001b[1;32m      4\u001b[0m \u001b[0;34m\u001b[0m\u001b[0m\n\u001b[1;32m      5\u001b[0m \u001b[0mX\u001b[0m \u001b[0;34m=\u001b[0m \u001b[0mvectorizer\u001b[0m\u001b[0;34m.\u001b[0m\u001b[0mtransform\u001b[0m\u001b[0;34m(\u001b[0m\u001b[0mX\u001b[0m\u001b[0;34m)\u001b[0m\u001b[0;34m\u001b[0m\u001b[0;34m\u001b[0m\u001b[0m\n",
            "\u001b[0;31mNameError\u001b[0m: name 'TfidfVectorizer' is not defined"
          ]
        }
      ]
    },
    {
      "cell_type": "code",
      "source": [
        "print(X)"
      ],
      "metadata": {
        "id": "YGd3RPkkm09Z",
        "outputId": "eef7947f-47d2-4be7-8f50-cab1ea4719ef",
        "colab": {
          "base_uri": "https://localhost:8080/",
          "height": 141
        }
      },
      "execution_count": 1,
      "outputs": [
        {
          "output_type": "error",
          "ename": "NameError",
          "evalue": "name 'X' is not defined",
          "traceback": [
            "\u001b[0;31m---------------------------------------------------------------------------\u001b[0m",
            "\u001b[0;31mNameError\u001b[0m                                 Traceback (most recent call last)",
            "\u001b[0;32m<ipython-input-1-1775643888>\u001b[0m in \u001b[0;36m<cell line: 0>\u001b[0;34m()\u001b[0m\n\u001b[0;32m----> 1\u001b[0;31m \u001b[0mprint\u001b[0m\u001b[0;34m(\u001b[0m\u001b[0mX\u001b[0m\u001b[0;34m)\u001b[0m\u001b[0;34m\u001b[0m\u001b[0;34m\u001b[0m\u001b[0m\n\u001b[0m",
            "\u001b[0;31mNameError\u001b[0m: name 'X' is not defined"
          ]
        }
      ]
    },
    {
      "cell_type": "code",
      "source": [],
      "metadata": {
        "id": "smgFUK6duJdd"
      },
      "execution_count": null,
      "outputs": []
    }
  ]
}